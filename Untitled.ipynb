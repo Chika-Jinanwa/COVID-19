{
 "cells": [
  {
   "cell_type": "code",
   "execution_count": null,
   "metadata": {},
   "outputs": [],
   "source": [
    "import numpy as np\n",
    "\n",
    "t0 = 0 # Initial time\n",
    "t_end = 730 #end time\n",
    "\n",
    "h = 0.1 # Step size for the Euler approximation which represents delta t\n",
    "steps = int((t_end - t0)/h + 1) # number of steps\n",
    "\n",
    "t = np.linspace(t0, t_end, steps) # storing t values\n",
    "S = np.zeros(steps) # for storing S values\n",
    "I = np.zeros(steps) # for storing I values\n",
    "R = np.zeros(steps) # for storing I values\n",
    "\n",
    "b = 0.050065/900000 # Infection rate for coronavirus\n",
    "k = 0.0181   # Recovery rate (Death rate) for coronavirus\n",
    "\n",
    "def dSdt(t,S,I):\n",
    "# dS/dt is the slope of S(t) at the point t (instantaneous rate of change of S at t) used for Euler's approximation\n",
    "    return - b * S * I #approximates the soln of the differential eqn ds/dt\n",
    "\n",
    "def dIdt(t,S,I):\n",
    "# dI/dt is the slope of I(t) at the point t (instantaneous rate of change of I at t) used for Euler's approximation\n",
    "    return (b*S-k)*I #approximates the soln of the differential eqn dI/dt\n",
    "\n",
    "def dRdt(t, I):\n",
    "# dI/dt is the slope of R(t) at the point t (instantaneous rate of change of R at t) used for Euler's approximation\n",
    "    return k*I #approximates the soln of the differential eqn dR/dt\n",
    "\n",
    "# initial condition\n",
    "S[0] = 900000 #initial number of susceptibles in res hall\n",
    "I[0] = 1 #initial number of infected students\n",
    "R[0] = 0 #initial number of recovered students\n",
    "\n",
    "for n in range(steps-1): # range(start, stop, step)\n",
    "    S[n+1] = S[n] + h * dSdt(t[n],S[n],I[n]) # applies euler's approximation to produce subsequent values\n",
    "    I[n+1] = I[n] + h * dIdt(t[n],S[n],I[n]) # applies euler's approximation to produce subsequent values\n",
    "    R[n+1] = R[n] + h * dRdt(t[n],I[n]) #applies euler's approximation to produce subsequent values\n",
    "    #print(S[n]+I[n]+R[n]) #checks if S I and R sum up to the total population of 163\n",
    "    \n",
    "import matplotlib.pyplot as plt\n",
    "%matplotlib inline\n",
    "plt.rcParams.update({'font.size': 15})\n",
    "plt.rcParams[\"figure.figsize\"] = [8,5]\n",
    "plt.plot(t,S,linewidth=2,label='S(t)')\n",
    "plt.plot(t,I,linewidth=2,label='I(t)')\n",
    "plt.plot(t,R,linewidth=2,label='R(t)')\n",
    "plt.xlabel('time(days)')\n",
    "plt.ylabel('Population count (people)')\n",
    "plt.legend(loc='best')\n",
    "plt.title(\"SIR Model for the Spread of Coronavirus in San Francisco\")\n",
    "text = (\"Graph showing the relationship between S(t), I(t) and R(t) for \")\n",
    "plt.show()"
   ]
  }
 ],
 "metadata": {
  "kernelspec": {
   "display_name": "Python 3",
   "language": "python",
   "name": "python3"
  },
  "language_info": {
   "codemirror_mode": {
    "name": "ipython",
    "version": 3
   },
   "file_extension": ".py",
   "mimetype": "text/x-python",
   "name": "python",
   "nbconvert_exporter": "python",
   "pygments_lexer": "ipython3",
   "version": "3.7.4"
  }
 },
 "nbformat": 4,
 "nbformat_minor": 2
}
